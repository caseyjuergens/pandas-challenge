{
 "cells": [
  {
   "cell_type": "code",
   "execution_count": 38,
   "metadata": {},
   "outputs": [],
   "source": [
    "# Dependencies and Setup\n",
    "import pandas as pd\n",
    "\n",
    "# File to Load (Remember to Change These)\n",
    "file_to_load = \"Resources/purchase_data.csv\"\n",
    "\n",
    "# Read Purchasing File and store into Pandas data frame\n",
    "purchase_data = pd.read_csv(file_to_load)"
   ]
  },
  {
   "cell_type": "code",
   "execution_count": 39,
   "metadata": {},
   "outputs": [
    {
     "data": {
      "text/html": [
       "<div>\n",
       "<style scoped>\n",
       "    .dataframe tbody tr th:only-of-type {\n",
       "        vertical-align: middle;\n",
       "    }\n",
       "\n",
       "    .dataframe tbody tr th {\n",
       "        vertical-align: top;\n",
       "    }\n",
       "\n",
       "    .dataframe thead th {\n",
       "        text-align: right;\n",
       "    }\n",
       "</style>\n",
       "<table border=\"1\" class=\"dataframe\">\n",
       "  <thead>\n",
       "    <tr style=\"text-align: right;\">\n",
       "      <th></th>\n",
       "      <th>Total Players</th>\n",
       "    </tr>\n",
       "  </thead>\n",
       "  <tbody>\n",
       "    <tr>\n",
       "      <th>0</th>\n",
       "      <td>576</td>\n",
       "    </tr>\n",
       "  </tbody>\n",
       "</table>\n",
       "</div>"
      ],
      "text/plain": [
       "   Total Players\n",
       "0            576"
      ]
     },
     "execution_count": 39,
     "metadata": {},
     "output_type": "execute_result"
    }
   ],
   "source": [
    "#---Player Count------------------------------------\n",
    "#count and display total number of players\n",
    "total_players=len(purchase_data[\"SN\"].value_counts())\n",
    "\n",
    "total_players_summary= pd.DataFrame({\"Total Players\": [total_players]})\n",
    "total_players_summary"
   ]
  },
  {
   "cell_type": "code",
   "execution_count": 40,
   "metadata": {},
   "outputs": [
    {
     "data": {
      "text/html": [
       "<div>\n",
       "<style scoped>\n",
       "    .dataframe tbody tr th:only-of-type {\n",
       "        vertical-align: middle;\n",
       "    }\n",
       "\n",
       "    .dataframe tbody tr th {\n",
       "        vertical-align: top;\n",
       "    }\n",
       "\n",
       "    .dataframe thead th {\n",
       "        text-align: right;\n",
       "    }\n",
       "</style>\n",
       "<table border=\"1\" class=\"dataframe\">\n",
       "  <thead>\n",
       "    <tr style=\"text-align: right;\">\n",
       "      <th></th>\n",
       "      <th>Unique Items</th>\n",
       "      <th>Average Price</th>\n",
       "      <th>Total Purchases</th>\n",
       "      <th>Total Revenue</th>\n",
       "    </tr>\n",
       "  </thead>\n",
       "  <tbody>\n",
       "    <tr>\n",
       "      <th>0</th>\n",
       "      <td>179</td>\n",
       "      <td>$3.05</td>\n",
       "      <td>780</td>\n",
       "      <td>$2379.77</td>\n",
       "    </tr>\n",
       "  </tbody>\n",
       "</table>\n",
       "</div>"
      ],
      "text/plain": [
       "   Unique Items Average Price  Total Purchases Total Revenue\n",
       "0           179         $3.05              780      $2379.77"
      ]
     },
     "execution_count": 40,
     "metadata": {},
     "output_type": "execute_result"
    }
   ],
   "source": [
    "#---Purchasing Analysis (total)-----------------------\n",
    "# calculate: no. of unique items, avg purchase price, total number of purchases\n",
    "#and total revenue. create a data frame. add styling\n",
    "#calculations\n",
    "\n",
    "unique_items=len(purchase_data[\"Item ID\"].unique())\n",
    "avg_price=purchase_data[\"Price\"].mean()\n",
    "total_purchases=purchase_data[\"Purchase ID\"].count()\n",
    "total_revenue=purchase_data[\"Price\"].sum()\n",
    "\n",
    "#styling/formating\n",
    "format_avg_price = \"${:.2f}\".format(avg_price)\n",
    "format_total_revenue =  \"${:.2f}\".format(total_revenue)\n",
    "\n",
    "#create dataframe\n",
    "purchasing_summary = pd.DataFrame({\"Unique Items\": unique_items,\n",
    "                                \"Average Price\": [format_avg_price],\n",
    "                                \"Total Purchases\": [total_purchases],\n",
    "                                \"Total Revenue\": [format_total_revenue]})\n",
    "purchasing_summary"
   ]
  },
  {
   "cell_type": "code",
   "execution_count": 41,
   "metadata": {},
   "outputs": [
    {
     "data": {
      "text/html": [
       "<div>\n",
       "<style scoped>\n",
       "    .dataframe tbody tr th:only-of-type {\n",
       "        vertical-align: middle;\n",
       "    }\n",
       "\n",
       "    .dataframe tbody tr th {\n",
       "        vertical-align: top;\n",
       "    }\n",
       "\n",
       "    .dataframe thead th {\n",
       "        text-align: right;\n",
       "    }\n",
       "</style>\n",
       "<table border=\"1\" class=\"dataframe\">\n",
       "  <thead>\n",
       "    <tr style=\"text-align: right;\">\n",
       "      <th></th>\n",
       "      <th>Count</th>\n",
       "      <th>Percentage</th>\n",
       "    </tr>\n",
       "    <tr>\n",
       "      <th>Gender</th>\n",
       "      <th></th>\n",
       "      <th></th>\n",
       "    </tr>\n",
       "  </thead>\n",
       "  <tbody>\n",
       "    <tr>\n",
       "      <th>Female</th>\n",
       "      <td>81</td>\n",
       "      <td>14.1%</td>\n",
       "    </tr>\n",
       "    <tr>\n",
       "      <th>Male</th>\n",
       "      <td>484</td>\n",
       "      <td>84.0%</td>\n",
       "    </tr>\n",
       "    <tr>\n",
       "      <th>Other / Non-Disclosed</th>\n",
       "      <td>11</td>\n",
       "      <td>1.9%</td>\n",
       "    </tr>\n",
       "  </tbody>\n",
       "</table>\n",
       "</div>"
      ],
      "text/plain": [
       "                       Count Percentage\n",
       "Gender                                 \n",
       "Female                    81      14.1%\n",
       "Male                     484      84.0%\n",
       "Other / Non-Disclosed     11       1.9%"
      ]
     },
     "execution_count": 41,
     "metadata": {},
     "output_type": "execute_result"
    }
   ],
   "source": [
    "#---Gender Demographics-----------------------------------\n",
    "#find the count and percentage of male/female/other\n",
    "gender_grouped = purchase_data.groupby(\"Gender\")\n",
    "gender_counts = gender_grouped[\"SN\"].nunique()\n",
    "gender_percent = (gender_counts/total_players).mul(100).round(1).astype(str) + \"%\"\n",
    "\n",
    "#create data frame\n",
    "gender_summary = pd.DataFrame({\"Count\": gender_counts, \"Percentage\": gender_percent})\n",
    "gender_summary"
   ]
  },
  {
   "cell_type": "code",
   "execution_count": 42,
   "metadata": {},
   "outputs": [],
   "source": [
    "#---Purchasing Analysis (gender)-------------------------\n",
    "#create new dataframes grouped by gender\n",
    "males_df = purchase_data.loc[purchase_data[\"Gender\"] == \"Male\",:]\n",
    "females_df = purchase_data.loc[purchase_data[\"Gender\"] == \"Female\",:]\n",
    "other_df = purchase_data.loc[purchase_data[\"Gender\"] == \"Other / Non-Disclosed\",:]\n",
    "\n",
    "#calculate: purchase count, avg purchase price, total purchase, avg purchase total\n",
    "#break it down by gender\n",
    "\n",
    "#create new data frame summarizing all above"
   ]
  },
  {
   "cell_type": "code",
   "execution_count": 43,
   "metadata": {},
   "outputs": [],
   "source": [
    "#Males.........\n",
    "males_purchase_count=len(males_df[\"Purchase ID\"].value_counts())\n",
    "males_avg_price=males_df[\"Price\"].mean()\n",
    "males_total_purchases=males_df[\"Price\"].sum()\n",
    "males_avg_total= (males_total_purchases/484) #484 is the number of total male players\n",
    "\n",
    "#formatting\n",
    "format_males_avg_price = \"${:.2f}\".format(males_avg_price)\n",
    "format_males_total_purchases =  \"${:.2f}\".format(males_total_purchases)\n",
    "format_males_avg_total = \"${:.2f}\".format(males_avg_total)"
   ]
  },
  {
   "cell_type": "code",
   "execution_count": 44,
   "metadata": {},
   "outputs": [],
   "source": [
    "#Females............\n",
    "females_purchase_count=len(females_df[\"Purchase ID\"].value_counts())\n",
    "females_avg_price=females_df[\"Price\"].mean()\n",
    "females_total_purchases=females_df[\"Price\"].sum()\n",
    "females_avg_total= (females_total_purchases/81) #81 is the number of total female players\n",
    "\n",
    "#formatting\n",
    "format_females_avg_price = \"${:.2f}\".format(females_avg_price)\n",
    "format_females_total_purchases =  \"${:.2f}\".format(females_total_purchases)\n",
    "format_females_avg_total = \"${:.2f}\".format(females_avg_total)"
   ]
  },
  {
   "cell_type": "code",
   "execution_count": 45,
   "metadata": {},
   "outputs": [],
   "source": [
    "#other/Non-Disclosed........\n",
    "other_purchase_count=len(other_df[\"Purchase ID\"].value_counts())\n",
    "other_avg_price=other_df[\"Price\"].mean()\n",
    "other_total_purchases=other_df[\"Price\"].sum()\n",
    "other_avg_total= (other_total_purchases/11) #11 is the number of total other players\n",
    "\n",
    "#formatting\n",
    "format_other_avg_price = \"${:.2f}\".format(other_avg_price)\n",
    "format_other_total_purchases =  \"${:.2f}\".format(other_total_purchases)\n",
    "format_other_avg_total = \"${:.2f}\".format(other_avg_total)"
   ]
  },
  {
   "cell_type": "code",
   "execution_count": 56,
   "metadata": {},
   "outputs": [
    {
     "data": {
      "text/html": [
       "<div>\n",
       "<style scoped>\n",
       "    .dataframe tbody tr th:only-of-type {\n",
       "        vertical-align: middle;\n",
       "    }\n",
       "\n",
       "    .dataframe tbody tr th {\n",
       "        vertical-align: top;\n",
       "    }\n",
       "\n",
       "    .dataframe thead th {\n",
       "        text-align: right;\n",
       "    }\n",
       "</style>\n",
       "<table border=\"1\" class=\"dataframe\">\n",
       "  <thead>\n",
       "    <tr style=\"text-align: right;\">\n",
       "      <th></th>\n",
       "      <th>Purchase Count</th>\n",
       "      <th>Average Purchase Price</th>\n",
       "      <th>Total Purchase Value</th>\n",
       "      <th>Avg Total Purchase Per Person</th>\n",
       "    </tr>\n",
       "  </thead>\n",
       "  <tbody>\n",
       "    <tr>\n",
       "      <th>Males</th>\n",
       "      <td>652</td>\n",
       "      <td>$3.02</td>\n",
       "      <td>$1967.64</td>\n",
       "      <td>$4.07</td>\n",
       "    </tr>\n",
       "    <tr>\n",
       "      <th>Females</th>\n",
       "      <td>113</td>\n",
       "      <td>$3.20</td>\n",
       "      <td>$361.94</td>\n",
       "      <td>$4.47</td>\n",
       "    </tr>\n",
       "    <tr>\n",
       "      <th>Other/ Non-Disclosed</th>\n",
       "      <td>15</td>\n",
       "      <td>$3.35</td>\n",
       "      <td>$50.19</td>\n",
       "      <td>$4.56</td>\n",
       "    </tr>\n",
       "  </tbody>\n",
       "</table>\n",
       "</div>"
      ],
      "text/plain": [
       "                      Purchase Count Average Purchase Price  \\\n",
       "Males                            652                  $3.02   \n",
       "Females                          113                  $3.20   \n",
       "Other/ Non-Disclosed              15                  $3.35   \n",
       "\n",
       "                     Total Purchase Value Avg Total Purchase Per Person  \n",
       "Males                            $1967.64                         $4.07  \n",
       "Females                           $361.94                         $4.47  \n",
       "Other/ Non-Disclosed               $50.19                         $4.56  "
      ]
     },
     "execution_count": 56,
     "metadata": {},
     "output_type": "execute_result"
    }
   ],
   "source": [
    "#create new data frame\n",
    "purchasing_summary_gender = pd.DataFrame({\"Purchase Count\": [males_purchase_count, females_purchase_count, other_purchase_count],\n",
    "                                \"Average Purchase Price\": [format_males_avg_price, format_females_avg_price, format_other_avg_price],\n",
    "                                \"Total Purchase Value\": [format_males_total_purchases, format_females_total_purchases, format_other_total_purchases],\n",
    "                                          \"Avg Total Purchase Per Person\": [format_males_avg_total, format_females_avg_total, format_other_avg_total]})\n",
    "purchasing_summary_gender.index= [\"Males\", \"Females\", \"Other/ Non-Disclosed\"]\n",
    "\n",
    "purchasing_summary_gender"
   ]
  },
  {
   "cell_type": "code",
   "execution_count": 51,
   "metadata": {},
   "outputs": [
    {
     "data": {
      "text/html": [
       "<style  type=\"text/css\" >\n",
       "</style><table id=\"T_a38f64e2_9c9c_11eb_b206_4865ee1b2658\" ><thead>    <tr>        <th class=\"blank level0\" ></th>        <th class=\"col_heading level0 col0\" >Total Count</th>        <th class=\"col_heading level0 col1\" >Percentage of Players</th>    </tr>    <tr>        <th class=\"index_name level0\" >Age Groups</th>        <th class=\"blank\" ></th>        <th class=\"blank\" ></th>    </tr></thead><tbody>\n",
       "                <tr>\n",
       "                        <th id=\"T_a38f64e2_9c9c_11eb_b206_4865ee1b2658level0_row0\" class=\"row_heading level0 row0\" ><10</th>\n",
       "                        <td id=\"T_a38f64e2_9c9c_11eb_b206_4865ee1b2658row0_col0\" class=\"data row0 col0\" >24</td>\n",
       "                        <td id=\"T_a38f64e2_9c9c_11eb_b206_4865ee1b2658row0_col1\" class=\"data row0 col1\" >4.17%</td>\n",
       "            </tr>\n",
       "            <tr>\n",
       "                        <th id=\"T_a38f64e2_9c9c_11eb_b206_4865ee1b2658level0_row1\" class=\"row_heading level0 row1\" >10-15</th>\n",
       "                        <td id=\"T_a38f64e2_9c9c_11eb_b206_4865ee1b2658row1_col0\" class=\"data row1 col0\" >41</td>\n",
       "                        <td id=\"T_a38f64e2_9c9c_11eb_b206_4865ee1b2658row1_col1\" class=\"data row1 col1\" >7.12%</td>\n",
       "            </tr>\n",
       "            <tr>\n",
       "                        <th id=\"T_a38f64e2_9c9c_11eb_b206_4865ee1b2658level0_row2\" class=\"row_heading level0 row2\" >16-20</th>\n",
       "                        <td id=\"T_a38f64e2_9c9c_11eb_b206_4865ee1b2658row2_col0\" class=\"data row2 col0\" >150</td>\n",
       "                        <td id=\"T_a38f64e2_9c9c_11eb_b206_4865ee1b2658row2_col1\" class=\"data row2 col1\" >26.04%</td>\n",
       "            </tr>\n",
       "            <tr>\n",
       "                        <th id=\"T_a38f64e2_9c9c_11eb_b206_4865ee1b2658level0_row3\" class=\"row_heading level0 row3\" >21-25</th>\n",
       "                        <td id=\"T_a38f64e2_9c9c_11eb_b206_4865ee1b2658row3_col0\" class=\"data row3 col0\" >232</td>\n",
       "                        <td id=\"T_a38f64e2_9c9c_11eb_b206_4865ee1b2658row3_col1\" class=\"data row3 col1\" >40.28%</td>\n",
       "            </tr>\n",
       "            <tr>\n",
       "                        <th id=\"T_a38f64e2_9c9c_11eb_b206_4865ee1b2658level0_row4\" class=\"row_heading level0 row4\" >26-30</th>\n",
       "                        <td id=\"T_a38f64e2_9c9c_11eb_b206_4865ee1b2658row4_col0\" class=\"data row4 col0\" >59</td>\n",
       "                        <td id=\"T_a38f64e2_9c9c_11eb_b206_4865ee1b2658row4_col1\" class=\"data row4 col1\" >10.24%</td>\n",
       "            </tr>\n",
       "            <tr>\n",
       "                        <th id=\"T_a38f64e2_9c9c_11eb_b206_4865ee1b2658level0_row5\" class=\"row_heading level0 row5\" >31-35</th>\n",
       "                        <td id=\"T_a38f64e2_9c9c_11eb_b206_4865ee1b2658row5_col0\" class=\"data row5 col0\" >37</td>\n",
       "                        <td id=\"T_a38f64e2_9c9c_11eb_b206_4865ee1b2658row5_col1\" class=\"data row5 col1\" >6.42%</td>\n",
       "            </tr>\n",
       "            <tr>\n",
       "                        <th id=\"T_a38f64e2_9c9c_11eb_b206_4865ee1b2658level0_row6\" class=\"row_heading level0 row6\" >36-40</th>\n",
       "                        <td id=\"T_a38f64e2_9c9c_11eb_b206_4865ee1b2658row6_col0\" class=\"data row6 col0\" >26</td>\n",
       "                        <td id=\"T_a38f64e2_9c9c_11eb_b206_4865ee1b2658row6_col1\" class=\"data row6 col1\" >4.51%</td>\n",
       "            </tr>\n",
       "            <tr>\n",
       "                        <th id=\"T_a38f64e2_9c9c_11eb_b206_4865ee1b2658level0_row7\" class=\"row_heading level0 row7\" >41<</th>\n",
       "                        <td id=\"T_a38f64e2_9c9c_11eb_b206_4865ee1b2658row7_col0\" class=\"data row7 col0\" >7</td>\n",
       "                        <td id=\"T_a38f64e2_9c9c_11eb_b206_4865ee1b2658row7_col1\" class=\"data row7 col1\" >1.22%</td>\n",
       "            </tr>\n",
       "    </tbody></table>"
      ],
      "text/plain": [
       "<pandas.io.formats.style.Styler at 0x2641ad22630>"
      ]
     },
     "execution_count": 51,
     "metadata": {},
     "output_type": "execute_result"
    }
   ],
   "source": [
    "#---Age Demographics-------------------------------------------\n",
    "#create bins for age. Categorize players by age(pd.cut). calculate numbers/%s per bin\n",
    "#create new summary table\n",
    "\n",
    "bins=[0, 10, 15, 20, 25, 30, 35, 40, 50]\n",
    "age_bin_labels=[\"<10\", \"10-15\", \"16-20\", \"21-25\", \"26-30\", \"31-35\", \"36-40\", \"41<\"]\n",
    "\n",
    "purchase_data[\"Age Groups\"]=pd.cut(purchase_data[\"Age\"], bins, labels=age_bin_labels)\n",
    "age_groups= purchase_data.groupby(\"Age Groups\")\n",
    "\n",
    "binned_age_counts=age_groups[\"SN\"].nunique()\n",
    "binned_age_percent=(binned_age_counts/total_players)*100\n",
    "\n",
    "age_summary=pd.DataFrame({\"Total Count\": binned_age_counts, \"Percentage of Players\": binned_age_percent})\n",
    "age_summary\n",
    "age_summary.style.format({\"Percentage of Players\": \"{:.2f}%\"})"
   ]
  },
  {
   "cell_type": "markdown",
   "metadata": {},
   "source": [
    "## Purchasing Analysis (Age)"
   ]
  },
  {
   "cell_type": "markdown",
   "metadata": {},
   "source": [
    "* Bin the purchase_data data frame by age\n",
    "\n",
    "\n",
    "* Run basic calculations to obtain purchase count, avg. purchase price, avg. purchase total per person etc. in the table below\n",
    "\n",
    "\n",
    "* Create a summary data frame to hold the results\n",
    "\n",
    "\n",
    "* Optional: give the displayed data cleaner formatting\n",
    "\n",
    "\n",
    "* Display the summary data frame"
   ]
  },
  {
   "cell_type": "code",
   "execution_count": 11,
   "metadata": {},
   "outputs": [
    {
     "data": {
      "text/plain": [
       "Age Groups\n",
       "<10       32\n",
       "10-15     54\n",
       "16-20    200\n",
       "21-25    325\n",
       "26-30     77\n",
       "31-35     52\n",
       "36-40     33\n",
       "41<        7\n",
       "Name: Purchase ID, dtype: int64"
      ]
     },
     "execution_count": 11,
     "metadata": {},
     "output_type": "execute_result"
    }
   ],
   "source": [
    "#---Purchasing Analysis (Age)-----------------------------------\n",
    "#bin age groups. calculate purchase count, avg purchase price, total purchase volume, and avg total purchase per person\n",
    "#create summary data frame\n",
    "\n",
    "age_purchase_count=age_groups[\"Purchase ID\"].count()\n",
    "age_avg_price=age_groups[\"Price\"].mean()\n",
    "age_total_purchases=age_groups[\"Price\"].sum()\n",
    "#age_avg_total=age_groups[]\n",
    "\n",
    "age_purchase_count"
   ]
  },
  {
   "cell_type": "markdown",
   "metadata": {},
   "source": [
    "## Top Spenders"
   ]
  },
  {
   "cell_type": "markdown",
   "metadata": {},
   "source": [
    "* Run basic calculations to obtain the results in the table below\n",
    "\n",
    "\n",
    "* Create a summary data frame to hold the results\n",
    "\n",
    "\n",
    "* Sort the total purchase value column in descending order\n",
    "\n",
    "\n",
    "* Optional: give the displayed data cleaner formatting\n",
    "\n",
    "\n",
    "* Display a preview of the summary data frame\n",
    "\n"
   ]
  },
  {
   "cell_type": "code",
   "execution_count": null,
   "metadata": {},
   "outputs": [],
   "source": []
  },
  {
   "cell_type": "markdown",
   "metadata": {},
   "source": [
    "## Most Popular Items"
   ]
  },
  {
   "cell_type": "markdown",
   "metadata": {},
   "source": [
    "* Retrieve the Item ID, Item Name, and Item Price columns\n",
    "\n",
    "\n",
    "* Group by Item ID and Item Name. Perform calculations to obtain purchase count, average item price, and total purchase value\n",
    "\n",
    "\n",
    "* Create a summary data frame to hold the results\n",
    "\n",
    "\n",
    "* Sort the purchase count column in descending order\n",
    "\n",
    "\n",
    "* Optional: give the displayed data cleaner formatting\n",
    "\n",
    "\n",
    "* Display a preview of the summary data frame\n",
    "\n"
   ]
  },
  {
   "cell_type": "code",
   "execution_count": null,
   "metadata": {},
   "outputs": [],
   "source": []
  },
  {
   "cell_type": "markdown",
   "metadata": {},
   "source": [
    "## Most Profitable Items"
   ]
  },
  {
   "cell_type": "markdown",
   "metadata": {},
   "source": [
    "* Sort the above table by total purchase value in descending order\n",
    "\n",
    "\n",
    "* Optional: give the displayed data cleaner formatting\n",
    "\n",
    "\n",
    "* Display a preview of the data frame\n",
    "\n"
   ]
  },
  {
   "cell_type": "code",
   "execution_count": null,
   "metadata": {
    "scrolled": true
   },
   "outputs": [],
   "source": []
  }
 ],
 "metadata": {
  "anaconda-cloud": {},
  "kernel_info": {
   "name": "python3"
  },
  "kernelspec": {
   "display_name": "Python [conda env:PythonData] *",
   "language": "python",
   "name": "conda-env-PythonData-py"
  },
  "language_info": {
   "codemirror_mode": {
    "name": "ipython",
    "version": 3
   },
   "file_extension": ".py",
   "mimetype": "text/x-python",
   "name": "python",
   "nbconvert_exporter": "python",
   "pygments_lexer": "ipython3",
   "version": "3.6.10"
  },
  "latex_envs": {
   "LaTeX_envs_menu_present": true,
   "autoclose": false,
   "autocomplete": true,
   "bibliofile": "biblio.bib",
   "cite_by": "apalike",
   "current_citInitial": 1,
   "eqLabelWithNumbers": true,
   "eqNumInitial": 1,
   "hotkeys": {
    "equation": "Ctrl-E",
    "itemize": "Ctrl-I"
   },
   "labels_anchors": false,
   "latex_user_defs": false,
   "report_style_numbering": false,
   "user_envs_cfg": false
  },
  "nteract": {
   "version": "0.2.0"
  }
 },
 "nbformat": 4,
 "nbformat_minor": 2
}
